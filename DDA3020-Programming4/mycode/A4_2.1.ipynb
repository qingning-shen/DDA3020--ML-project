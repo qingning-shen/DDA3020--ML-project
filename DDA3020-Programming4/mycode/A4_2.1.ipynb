{
 "cells": [
  {
   "cell_type": "code",
   "execution_count": 184,
   "metadata": {},
   "outputs": [],
   "source": [
    "import random\n",
    "import numpy as np\n",
    "import pandas as pd\n",
    "np.random.seed(42)"
   ]
  },
  {
   "cell_type": "code",
   "execution_count": 185,
   "metadata": {},
   "outputs": [],
   "source": [
    "data1 = pd.read_csv('seeds.csv')\n",
    "label1 = data1.iloc[:, -1]\n",
    "data1 = data1.iloc[:, :-1]\n",
    "for col in data1.columns:\n",
    "    data1[col] = (data1[col] - data1[col].mean()) / data1[col].std()\n",
    "datas = data1.values\n",
    "labels = label1.values"
   ]
  },
  {
   "cell_type": "code",
   "execution_count": 186,
   "metadata": {},
   "outputs": [],
   "source": [
    "data2 = pd.read_csv('Vowel.csv')\n",
    "label2 = data2.iloc[:, -1]\n",
    "data2 = data2.iloc[:, :-1]\n",
    "for col in data2.columns:\n",
    "    data2[col] = (data2[col] - data2[col].mean())/ data2[col].std()\n",
    "dataV = data2.values\n",
    "\n",
    "def replace_had_with_1(label2):\n",
    "    mask = (label2 == 'had')\n",
    "    label2[mask] = 0\n",
    "    mask = (label2 == 'hed')\n",
    "    label2[mask] = 1\n",
    "    mask = (label2 == 'hAd')\n",
    "    label2[mask] = 2\n",
    "    mask = (label2 == 'hEd')\n",
    "    label2[mask] = 3\n",
    "    mask = (label2 == 'hid')\n",
    "    label2[mask] = 4\n",
    "    mask = (label2 == 'hId')\n",
    "    label2[mask] = 5\n",
    "    mask = (label2 == 'hod')\n",
    "    label2[mask] = 6\n",
    "    mask = (label2 == 'hOd')\n",
    "    label2[mask] = 7\n",
    "    mask = (label2 == 'hud')\n",
    "    label2[mask] = 8\n",
    "    mask = (label2 == 'hUd')\n",
    "    label2[mask] = 9\n",
    "    mask = (label2 == 'hYd')\n",
    "    label2[mask] = 10\n",
    "\n",
    "replace_had_with_1(label2)\n",
    "labelV = label2.values"
   ]
  },
  {
   "cell_type": "markdown",
   "metadata": {},
   "source": [
    "### Implement of k-means"
   ]
  },
  {
   "cell_type": "code",
   "execution_count": 187,
   "metadata": {},
   "outputs": [],
   "source": [
    "def initial_center(initial, k):\n",
    "    return initial[random.sample([i for i in range(initial.shape[0])],k)]\n",
    "    \n",
    "def distance(x1, x2):\n",
    "    return np.linalg.norm(np.array(x1)-np.array(x2))\n",
    "\n",
    "\n",
    "def k_means(initial, k, error=0.0001, stopping=100):\n",
    "    initial_centers = initial_center(initial, k)\n",
    "    for _ in range(stopping):\n",
    "        clusters = [[] for i in range(k)]\n",
    "        for point in initial:\n",
    "            distances = []\n",
    "            for center in initial_centers:\n",
    "                distance_value = distance(point, center)\n",
    "                distances.append(distance_value)\n",
    "            cluster_index = np.argmin(distances)\n",
    "            clusters[cluster_index].append(point)\n",
    "        new_centers = []\n",
    "        for cluster in clusters:\n",
    "            center = np.mean(cluster, axis=0)\n",
    "            new_centers.append(center)\n",
    "        new_centers = np.array(new_centers)\n",
    "        if np.all(np.linalg.norm(initial_centers - new_centers, axis=1) < error):\n",
    "            break\n",
    "        initial_centers = new_centers\n",
    "    return initial_centers"
   ]
  },
  {
   "cell_type": "markdown",
   "metadata": {},
   "source": [
    "### Implement of Gaussian Mixture Models"
   ]
  },
  {
   "cell_type": "code",
   "execution_count": 188,
   "metadata": {},
   "outputs": [],
   "source": [
    "def multivariate_normal(x, mean, covariance):\n",
    "    d = x.shape[0]\n",
    "    coeff = 1 / np.sqrt((2*np.pi) * np.linalg.det(covariance))\n",
    "    exp = -0.5 * np.sum((x - mean) @ np.linalg.inv(covariance) * (x - mean), axis=1)\n",
    "    pdf = coeff * np.exp(exp) \n",
    "    return pdf\n",
    "\n",
    "def gmm(data, k, max_iterations=1000):\n",
    "    n, d = data.shape\n",
    "    mu = np.ones(k) / k\n",
    "    means = initial_center(data, k)\n",
    "    covariances = []\n",
    "    for _ in range(k):\n",
    "        cov = np.eye(d)\n",
    "        covariances.append(cov)\n",
    "    def E_step(data, mu, means, covariances):\n",
    "        post = np.zeros((n, k))\n",
    "        for i in range(k):\n",
    "            post[:, i] = mu[i] * multivariate_normal(data, means[i], covariances[i])\n",
    "        post = post/ np.sum(post, axis=1, keepdims=True)\n",
    "        return post\n",
    "    \n",
    "    def M_step(data, mu, means, covariances, post):\n",
    "        Nk = np.sum(post, axis=0)\n",
    "        mu = Nk / n\n",
    "        means = np.dot(post.T, data) / Nk.reshape(-1,1)\n",
    "        covariances = []\n",
    "        for i in range(k):\n",
    "            covariance = np.dot((data - means[i]).T, (data - means[i]) * post[:, i].reshape(-1,1)) / Nk[i]\n",
    "            covariances.append(covariance)\n",
    "        return mu, means, covariances\n",
    "    \n",
    "    for _ in range(max_iterations):\n",
    "        post = E_step(data, mu, means, covariances)\n",
    "        mu, means, covariances = M_step(data, mu, means, covariances, post)\n",
    "    labels = np.argmax(post, axis=1)\n",
    "    return labels, means"
   ]
  },
  {
   "cell_type": "markdown",
   "metadata": {},
   "source": [
    "### Implement of Silhouette Coefficient"
   ]
  },
  {
   "cell_type": "code",
   "execution_count": 189,
   "metadata": {},
   "outputs": [],
   "source": [
    "def calculate_distance(point1, point2):\n",
    "    return np.sqrt(np.sum((point1 - point2) ** 2))\n",
    "\n",
    "def silhouette_coefficient(data, labels):\n",
    "    n = data.shape[0]\n",
    "    silhouette_scores = np.zeros(n)\n",
    "    distances = np.zeros((n, n))\n",
    "    for i in range(n):\n",
    "        for j in range(i+1, n):\n",
    "            distances[i, j] = calculate_distance(data[i], data[j])\n",
    "            distances[j, i] = distances[i, j]\n",
    "    for i in range(n):\n",
    "        label = labels[i]\n",
    "        label_indices = np.where(labels == label)[0]\n",
    "        a_i = np.mean(distances[i, label_indices])\n",
    "        b_distances = []\n",
    "        for labelb in np.unique(labels):\n",
    "            if labelb != label:\n",
    "                labelb_indices = np.where(labels == labelb)[0]\n",
    "                b_i = np.mean(distances[i, labelb_indices])\n",
    "                b_distances.append(b_i)\n",
    "        if len(b_distances)>0:\n",
    "            b_i = min(b_distances)\n",
    "            silhouette_scores[i] = (b_i - a_i) / max(a_i, b_i)\n",
    "    return np.mean(silhouette_scores)"
   ]
  },
  {
   "cell_type": "markdown",
   "metadata": {},
   "source": [
    "### Implement of Rand Index"
   ]
  },
  {
   "cell_type": "code",
   "execution_count": 190,
   "metadata": {},
   "outputs": [],
   "source": [
    "def rand_index(labels_true, labels_pred):\n",
    "    n = labels_true.shape[0]\n",
    "    r = 0\n",
    "    s = 0\n",
    "    for i in range(n):\n",
    "        for j in range(i+1, n):\n",
    "            if labels_true[i] == labels_true[j] and labels_pred[i] == labels_pred[j]:\n",
    "                r += 1\n",
    "            elif labels_true[i] != labels_true[j] and labels_pred[i] != labels_pred[j]:\n",
    "                s += 1\n",
    "    rand_index = (r + s) / (n * (n - 1) / 2)\n",
    "    return rand_index"
   ]
  },
  {
   "cell_type": "markdown",
   "metadata": {},
   "source": [
    "### Implement of Normalized Mutual Information"
   ]
  },
  {
   "cell_type": "code",
   "execution_count": 191,
   "metadata": {},
   "outputs": [],
   "source": [
    "def nmi(labels_true, labels_pred):\n",
    "    n = labels_true.shape[0]\n",
    "    clusters = []\n",
    "    for label in labels_pred:\n",
    "        if label not in clusters:\n",
    "            clusters.append(label)\n",
    "    n_clusters = len(clusters)\n",
    "    classes = []\n",
    "    for label in labels_true:\n",
    "        if label not in classes:\n",
    "            classes.append(label)\n",
    "    n_classes = len(classes)\n",
    "    joint = np.zeros((n_clusters, n_classes))\n",
    "    labels_pred = labels_pred.astype(int)\n",
    "    labels_true = labels_true.astype(int)\n",
    "    for i in range(n):\n",
    "        joint[clusters.index(labels_pred[i]), classes.index(labels_true[i])] += 1\n",
    "    mutual = 0\n",
    "    for i in range(n_clusters):\n",
    "        for j in range(n_classes):\n",
    "            pro_xy = joint[i, j] / n\n",
    "            pro_x = np.sum(joint[i, :]) / n\n",
    "            pro_y = np.sum(joint[:, j]) / n\n",
    "            if pro_xy > 0:\n",
    "                mutual += pro_xy * np.log(pro_xy / (pro_x * pro_y))\n",
    "            elif pro_x == 0 and pro_y == 0:\n",
    "                mutual += 0\n",
    "    h_x = 0\n",
    "    for i in range(n_clusters):\n",
    "        pro_x = np.sum(joint[i, :]) / n\n",
    "        if pro_x > 0:\n",
    "            h_x += -pro_x * np.log(pro_x)\n",
    "    h_y = 0\n",
    "    for j in range(n_classes):\n",
    "        pro_y = np.sum(joint[:, j]) / n\n",
    "        if pro_y > 0:\n",
    "            h_y += -pro_y * np.log(pro_y)\n",
    "    nmi = mutual / np.sqrt(h_x * h_y)\n",
    "    return nmi"
   ]
  },
  {
   "cell_type": "code",
   "execution_count": 192,
   "metadata": {},
   "outputs": [
    {
     "name": "stderr",
     "output_type": "stream",
     "text": [
      "C:\\Users\\User\\AppData\\Local\\Temp\\ipykernel_44548\\1568060251.py:38: RuntimeWarning: invalid value encountered in scalar divide\n",
      "  nmi = mutual / np.sqrt(h_x * h_y)\n"
     ]
    },
    {
     "name": "stdout",
     "output_type": "stream",
     "text": [
      "seeds: K-means Rand Index ( k = 1 ): 0.33014354066985646\n",
      "seeds: GMM Rand Index ( k = 1 ): 0.33014354066985646\n",
      "\n",
      "seeds: K-means NMI ( k = 1 ): nan\n",
      "seeds: GMM NMI ( k = 1 ): nan\n",
      "--------------------------------------------------\n",
      "seeds: K-means Silhouette Coefficient ( k = 2 ): 0.4665442875145582\n",
      "seeds: GMM Silhouette Coefficient ( k = 2 ): 0.4662520989859995\n",
      "\n",
      "seeds: K-means Rand Index ( k = 2 ): 0.7493734335839599\n",
      "seeds: GMM Rand Index ( k = 2 ): 0.7349737981316928\n",
      "\n",
      "seeds: K-means NMI ( k = 2 ): 0.6177450842267775\n",
      "seeds: GMM NMI ( k = 2 ): 0.5927561079931564\n",
      "--------------------------------------------------\n",
      "seeds: K-means Silhouette Coefficient ( k = 3 ): 0.4125299893883001\n",
      "seeds: GMM Silhouette Coefficient ( k = 3 ): 0.32865592584127523\n",
      "\n",
      "seeds: K-means Rand Index ( k = 3 ): 0.8995215311004785\n",
      "seeds: GMM Rand Index ( k = 3 ): 0.8308954203691046\n",
      "\n",
      "seeds: K-means NMI ( k = 3 ): 0.7307317284137268\n",
      "seeds: GMM NMI ( k = 3 ): 0.6238891112443823\n"
     ]
    }
   ],
   "source": [
    "k_values = [1,2,3]\n",
    "for k in k_values:\n",
    "    k_centers = k_means(datas, k)\n",
    "    k_labels = []\n",
    "    for data in datas:\n",
    "        distances = []\n",
    "        for center in k_centers:\n",
    "            distance3 = np.linalg.norm(data - center)\n",
    "            distances.append(distance3)\n",
    "        cluster_label = np.argmin(distances)\n",
    "        k_labels.append(cluster_label)\n",
    "    k_labels = np.array(k_labels)\n",
    "    gmm_labels, gmm_centers = gmm(datas, k)\n",
    "    if k != 1:\n",
    "        k_means_silhouette = silhouette_coefficient(datas, k_labels)\n",
    "        gmm_silhouette = silhouette_coefficient(datas, gmm_labels)\n",
    "    k_means_rand_index = rand_index(labels, k_labels)\n",
    "    gmm_rand_index = rand_index(labels, gmm_labels)\n",
    "    k_means_nmi = nmi(labels, k_labels)\n",
    "    gmm_nmi = nmi(labels, gmm_labels)\n",
    "    if k != 1:\n",
    "        print(\"seeds: K-means Silhouette Coefficient ( k =\", k,\"):\", k_means_silhouette)\n",
    "        print(\"seeds: GMM Silhouette Coefficient ( k =\", k,\"):\", gmm_silhouette)\n",
    "        print()\n",
    "    \n",
    "    print(\"seeds: K-means Rand Index ( k =\", k,\"):\", k_means_rand_index)\n",
    "    print(\"seeds: GMM Rand Index ( k =\", k,\"):\", gmm_rand_index)\n",
    "    print()\n",
    "    print(\"seeds: K-means NMI ( k =\", k,\"):\", k_means_nmi)\n",
    "    print(\"seeds: GMM NMI ( k =\", k,\"):\", gmm_nmi)\n",
    "    if k != 3:\n",
    "        print(\"--------------------------------------------------\")"
   ]
  },
  {
   "cell_type": "code",
   "execution_count": 193,
   "metadata": {},
   "outputs": [
    {
     "name": "stderr",
     "output_type": "stream",
     "text": [
      "C:\\Users\\User\\AppData\\Local\\Temp\\ipykernel_44548\\1568060251.py:38: RuntimeWarning: invalid value encountered in scalar divide\n",
      "  nmi = mutual / np.sqrt(h_x * h_y)\n"
     ]
    },
    {
     "name": "stdout",
     "output_type": "stream",
     "text": [
      "Vowel: K-means Rand Index ( k = 1 ): 0.08998988877654196\n",
      "Vowel: GMM Rand Index ( k = 1 ): 0.08998988877654196\n",
      "\n",
      "Vowel: K-means NMI ( k = 1 ): nan\n",
      "Vowel: GMM NMI ( k = 1 ): nan\n",
      "--------------------------------------------------\n",
      "Vowel: K-means Silhouette Coefficient ( k = 2 ): 0.19491499982662652\n",
      "Vowel: GMM Silhouette Coefficient ( k = 2 ): 0.1607413157566187\n",
      "\n",
      "Vowel: K-means Rand Index ( k = 2 ): 0.4281153292275638\n",
      "Vowel: GMM Rand Index ( k = 2 ): 0.42641786928945674\n",
      "\n",
      "Vowel: K-means NMI ( k = 2 ): 0.037814581679525804\n",
      "Vowel: GMM NMI ( k = 2 ): 0.03979281361715382\n",
      "--------------------------------------------------\n",
      "Vowel: K-means Silhouette Coefficient ( k = 3 ): 0.17483063949200578\n",
      "Vowel: GMM Silhouette Coefficient ( k = 3 ): 0.08207008364656064\n",
      "\n",
      "Vowel: K-means Rand Index ( k = 3 ): 0.6024736750722595\n",
      "Vowel: GMM Rand Index ( k = 3 ): 0.6361920519655606\n",
      "\n",
      "Vowel: K-means NMI ( k = 3 ): 0.10730339537694644\n",
      "Vowel: GMM NMI ( k = 3 ): 0.14417222812062455\n"
     ]
    }
   ],
   "source": [
    "k_values = [1,2,3]\n",
    "for k in k_values:\n",
    "    k_centers = k_means(dataV, k)\n",
    "    k_labels = []\n",
    "    for data in dataV:\n",
    "        distances = []\n",
    "        for center in k_centers:\n",
    "            distance4 = np.linalg.norm(data - center)\n",
    "            distances.append(distance4)\n",
    "        cluster_label = np.argmin(distances)\n",
    "        k_labels.append(cluster_label)\n",
    "    k_labels = np.array(k_labels)\n",
    "    gmm_labels, gmm_centers = gmm(dataV, k)\n",
    "    if k != 1:\n",
    "        k_means_silhouette = silhouette_coefficient(dataV, k_labels)\n",
    "        gmm_silhouette = silhouette_coefficient(dataV, gmm_labels)\n",
    "    k_means_rand_index = rand_index(labelV, k_labels)\n",
    "    gmm_rand_index = rand_index(labelV, gmm_labels)\n",
    "    k_means_nmi = nmi(labelV, k_labels)\n",
    "    gmm_nmi = nmi(labelV, gmm_labels)\n",
    "    if k != 1:\n",
    "        print(\"Vowel: K-means Silhouette Coefficient ( k =\", k, \"):\", k_means_silhouette)\n",
    "        print(\"Vowel: GMM Silhouette Coefficient ( k =\", k, \"):\", gmm_silhouette)\n",
    "        print()\n",
    "    \n",
    "    print(\"Vowel: K-means Rand Index ( k =\", k, \"):\", k_means_rand_index)\n",
    "    print(\"Vowel: GMM Rand Index ( k =\", k, \"):\", gmm_rand_index)\n",
    "    print()\n",
    "    print(\"Vowel: K-means NMI ( k =\", k, \"):\", k_means_nmi)\n",
    "    print(\"Vowel: GMM NMI ( k =\", k, \"):\", gmm_nmi)\n",
    "    if k != 3:\n",
    "        print(\"--------------------------------------------------\")"
   ]
  },
  {
   "cell_type": "code",
   "execution_count": 194,
   "metadata": {},
   "outputs": [],
   "source": [
    "# from sklearn.metrics import rand_score, silhouette_score, normalized_mutual_info_score\n",
    "# k_values = [2,3,4,5,6,7,8,9,10]\n",
    "# for k in k_values:\n",
    "#     k_centers = k_means(dataV, k)\n",
    "#     k_labels = []\n",
    "#     for data in dataV:\n",
    "#         distances = []\n",
    "#         for center in k_centers:\n",
    "#             distance4 = np.linalg.norm(data - center)\n",
    "#             distances.append(distance4)\n",
    "#         cluster_label = np.argmin(distances)\n",
    "#         k_labels.append(cluster_label)\n",
    "#     k_labels = np.array(k_labels)\n",
    "#     gmm_labels, gmm_centers = gmm(dataV, k)\n",
    "#     print(f\"RI: {rand_score(gmm_labels, labelV)}\")\n",
    "#     if k > 1:\n",
    "#         print(f\"sil: {silhouette_score(dataV, gmm_labels)}\")\n",
    "#         print(f\"NMI: {normalized_mutual_info_score(gmm_labels, labelV)}\")\n",
    "    "
   ]
  },
  {
   "cell_type": "code",
   "execution_count": 195,
   "metadata": {},
   "outputs": [],
   "source": [
    "# from sklearn.mixture import GaussianMixture\n",
    "# k_values = [2,3,4,5,6,7,8,9,10,11]\n",
    "# for k in k_values:\n",
    "#     gmm = GaussianMixture(n_components=k)\n",
    "#     gmm.fit(dataV)\n",
    "#     labels = gmm.predict(dataV)\n",
    "#     # print(f\"RI: {rand_score(labels, labelV)}\")\n",
    "#     print(f\"sil: {silhouette_score(dataV, labels)}\")\n",
    "#     print(f\"NMI: {normalized_mutual_info_score(labels, labelV)}\")"
   ]
  }
 ],
 "metadata": {
  "kernelspec": {
   "display_name": "torch2_1",
   "language": "python",
   "name": "python3"
  },
  "language_info": {
   "codemirror_mode": {
    "name": "ipython",
    "version": 3
   },
   "file_extension": ".py",
   "mimetype": "text/x-python",
   "name": "python",
   "nbconvert_exporter": "python",
   "pygments_lexer": "ipython3",
   "version": "3.9.18"
  }
 },
 "nbformat": 4,
 "nbformat_minor": 2
}
