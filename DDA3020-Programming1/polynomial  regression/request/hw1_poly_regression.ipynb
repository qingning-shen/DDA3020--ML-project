{
 "cells": [
  {
   "cell_type": "markdown",
   "metadata": {},
   "source": [
    "## DDA3020 Autumn 2023 Homework 1 \n",
    "\n",
    "### Programming Part 1：Polynomial Regression\n",
    "\n",
    "--------------------------------------------------------------------------------------------------------------------------\n",
    "\n",
    "In this exercise, we will try to fit a non-linear function $g$ with polynomial regression on the feasible space $\\mathbf{X} = [0,11]$: \n",
    "$$\\text{Unknown} \\quad g(x) = ?$$ \n",
    "$$\\text{Construct} \\quad f(x) = \\sum_{i=0}^n \\alpha_i x^i \\quad \\Longleftrightarrow \\quad f(x) = w^Tx',\\quad x' = \\begin{bmatrix} 1\\\\x\\\\x^2\\\\\\vdots\\\\x^n\\end{bmatrix},\\quad s.t. \\quad \\forall x\\in \\mathbf{X}, \\quad f(x) \\approx g(x) $$ \n",
    "Where $n$ is the polynomial degree of freedom and is manually chosen.\n",
    "\n",
    "--------------------------------------------------------------------------------------------------------------------------"
   ]
  },
  {
   "cell_type": "code",
   "execution_count": 2,
   "metadata": {},
   "outputs": [],
   "source": [
    "import numpy as np\n",
    "import matplotlib.pyplot as plt\n"
   ]
  },
  {
   "cell_type": "markdown",
   "metadata": {},
   "source": [
    "We will use 17 noised samples to try to construct $f$."
   ]
  },
  {
   "cell_type": "code",
   "execution_count": 3,
   "metadata": {},
   "outputs": [],
   "source": [
    "x = np.array([ 0.    ,  0.6875,  1.375 ,  2.0625,  2.75  ,  3.4375,  4.125 , 4.8125,  5.5   ,  6.1875,  6.875 ,  7.5625,  8.25  ,  8.9375, 9.625 , 10.3125, 11.    ])\n",
    "y = np.array([ -4.4282,   5.3943,   1.2416,  -5.9952,   3.1727,  18.6035, -3.2577,  -4.3593, -14.3989, -41.4483, -41.7916, -16.6214, 33.3262,  66.5037,  87.59  ,  64.3216,  10.4986])"
   ]
  },
  {
   "cell_type": "markdown",
   "metadata": {},
   "source": [
    "#### 1. (1 point) \n",
    "\n",
    "(1) Define the function to calculate $\\hat{w}$ directly from $X$, $y$ and $\\lambda$:\n",
    "\n",
    "$$\\hat{w} = \\arg\\min_{w}\\|Xw-y\\|^2+\\lambda\\|w\\|^2 \\quad \\Rightarrow\\quad \\hat{w} = (X^TX+\\lambda I)^{-1}X^Ty$$\n",
    "\n",
    "   - _Hint_: You are allowed to use _np.linalg.inv_ to calculate the inverse of a matrix.\n"
   ]
  },
  {
   "cell_type": "code",
   "execution_count": 6,
   "metadata": {},
   "outputs": [],
   "source": [
    "def estimate_w(X,y,lambda_reg):\n",
    "    return\n"
   ]
  },
  {
   "cell_type": "markdown",
   "metadata": {},
   "source": [
    "#### 2. (3 points)\n",
    "(1) Take $n = 3$ and $lambda = 0$. Solve the problem.\n",
    "\n",
    "(2) Display your $\\hat{y} = X\\hat{w}$ as well as the given $y$. You are supposed to see:\n",
    "\n",
    "<!-- ![pic1](hw1.png) -->\n",
    "<img src = 'hw1.png' width = 40% height = 40% />\n",
    "\n",
    "\n",
    " - _Hint_: the mean squared error of this solution $\\frac{(\\hat{y}-y)^2}{17} = 754.55$"
   ]
  },
  {
   "cell_type": "code",
   "execution_count": 4,
   "metadata": {},
   "outputs": [],
   "source": [
    "n = 3\n",
    "lambda_reg = 0.0\n",
    "\n"
   ]
  },
  {
   "cell_type": "markdown",
   "metadata": {},
   "source": [
    "#### 3. (8 points) \n",
    "\n",
    "(1) Implement a grid search by changing the polynomial degree $n$ as well as the regularization parameter $\\lambda$\n",
    "\n",
    "(2) find the best mse (mean squared error) that you can reach. Print your best search mse."
   ]
  },
  {
   "cell_type": "code",
   "execution_count": null,
   "metadata": {},
   "outputs": [],
   "source": [
    "\n"
   ]
  },
  {
   "cell_type": "markdown",
   "metadata": {},
   "source": [
    "#### 4. (1 point) \n",
    "\n",
    "(1) Display in 3D the results of your grid search."
   ]
  },
  {
   "cell_type": "code",
   "execution_count": null,
   "metadata": {},
   "outputs": [],
   "source": []
  },
  {
   "cell_type": "markdown",
   "metadata": {},
   "source": [
    "#### 5. (1 point) \n",
    "\n",
    "(1) Define the function $f$ that you found.\n"
   ]
  },
  {
   "cell_type": "code",
   "execution_count": 5,
   "metadata": {},
   "outputs": [],
   "source": [
    "def f(x):\n",
    "    return "
   ]
  },
  {
   "cell_type": "markdown",
   "metadata": {},
   "source": [
    "#### 5. (6 points) \n",
    "\n",
    "(1) Load the 1000 points taken from the ground truth fuction $g$. You will find data on the range $x\\in[-5,20]$.\n",
    "\n",
    "(2) Display for $x\\in [0,11]$:\n",
    " - Display $g$ in color 'C0' with the points that you loaded.\n",
    " - Scatter the given 17 samples in color 'C1'. \n",
    " - Display (enough densely) your $f$ in color 'C2'.\n",
    " - Display the legend indicating the 3 plots. Specify the name for axis x and y.\n",
    "\n",
    "(3) Repeat (2) for $x\\in [-1,12]$\n",
    "\n",
    "(4) Repeat (2) for $x\\in [-2,13]$\n",
    "\n",
    "(5) Give some comments on this work."
   ]
  },
  {
   "cell_type": "code",
   "execution_count": 4,
   "metadata": {},
   "outputs": [],
   "source": [
    "# load\n",
    "import pickle as pkl\n",
    "with open('ground truth function', 'rb') as read_file:\n",
    "    x_real_g, y_real_g = pkl.load(read_file)\n",
    "    read_file.close()\n"
   ]
  },
  {
   "cell_type": "markdown",
   "metadata": {},
   "source": [
    "comments:"
   ]
  }
 ],
 "metadata": {
  "kernelspec": {
   "display_name": "Python 3 (ipykernel)",
   "language": "python",
   "name": "python3"
  },
  "language_info": {
   "codemirror_mode": {
    "name": "ipython",
    "version": 3
   },
   "file_extension": ".py",
   "mimetype": "text/x-python",
   "name": "python",
   "nbconvert_exporter": "python",
   "pygments_lexer": "ipython3",
   "version": "3.9.16"
  }
 },
 "nbformat": 4,
 "nbformat_minor": 2
}
